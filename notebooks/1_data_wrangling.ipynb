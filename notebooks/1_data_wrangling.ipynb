{
 "cells": [
  {
   "cell_type": "code",
   "execution_count": null,
   "metadata": {},
   "outputs": [],
   "source": [
    "import pandas as pd"
   ]
  },
  {
   "cell_type": "markdown",
   "metadata": {},
   "source": [
    "## 1. Load the Data"
   ]
  },
  {
   "cell_type": "markdown",
   "metadata": {},
   "source": [
    "### 1.1. Inspect the Data\n",
    "- Data records for general aviation and commercial air carrier incidents since 1978, collected from FAA's Accident and Incident Data Systems\n",
    "- 100000 data points\n",
    "- general deatils (date, aircraft, operator, location)\n",
    "- flight and pilot details (aircraft damage, injuries, pic cert type, pic total hrs, pic make-model hrs)"
   ]
  },
  {
   "cell_type": "code",
   "execution_count": 3,
   "metadata": {},
   "outputs": [
    {
     "name": "stderr",
     "output_type": "stream",
     "text": [
      "/tmp/ipykernel_73673/3494293613.py:1: DtypeWarning: Columns (12,14) have mixed types. Specify dtype option on import or set low_memory=False.\n",
      "  df=pd.read_csv('../data/faa_incidents_data.csv')\n"
     ]
    }
   ],
   "source": [
    "df=pd.read_csv('../data/faa_incidents_data.csv')"
   ]
  },
  {
   "cell_type": "code",
   "execution_count": 4,
   "metadata": {},
   "outputs": [
    {
     "data": {
      "text/html": [
       "<div>\n",
       "<style scoped>\n",
       "    .dataframe tbody tr th:only-of-type {\n",
       "        vertical-align: middle;\n",
       "    }\n",
       "\n",
       "    .dataframe tbody tr th {\n",
       "        vertical-align: top;\n",
       "    }\n",
       "\n",
       "    .dataframe thead th {\n",
       "        text-align: right;\n",
       "    }\n",
       "</style>\n",
       "<table border=\"1\" class=\"dataframe\">\n",
       "  <thead>\n",
       "    <tr style=\"text-align: right;\">\n",
       "      <th></th>\n",
       "      <th>AIDS Report Number</th>\n",
       "      <th>Local Event Date</th>\n",
       "      <th>Event City</th>\n",
       "      <th>Event State</th>\n",
       "      <th>Event Airport</th>\n",
       "      <th>Event Type</th>\n",
       "      <th>Aircraft Damage</th>\n",
       "      <th>Flight Phase</th>\n",
       "      <th>Aircraft Make</th>\n",
       "      <th>Aircraft Model</th>\n",
       "      <th>...</th>\n",
       "      <th>Total Injuries</th>\n",
       "      <th>Aircraft Engine Make</th>\n",
       "      <th>Aircraft Engine Model</th>\n",
       "      <th>Engine Group Code</th>\n",
       "      <th>Nbr of Engines</th>\n",
       "      <th>PIC Certificate Type</th>\n",
       "      <th>PIC Flight Time Total Hrs</th>\n",
       "      <th>PIC Flight Time Total Make-Model</th>\n",
       "      <th></th>\n",
       "      <th>.1</th>\n",
       "    </tr>\n",
       "  </thead>\n",
       "  <tbody>\n",
       "    <tr>\n",
       "      <th>0</th>\n",
       "      <td>19780101000019I</td>\n",
       "      <td>01-JAN-78</td>\n",
       "      <td>WAHPETON</td>\n",
       "      <td>ND</td>\n",
       "      <td>BRECKENRIDGE</td>\n",
       "      <td>INCIDENT</td>\n",
       "      <td>MINOR</td>\n",
       "      <td>ROLL-OUT (FIXED WING)</td>\n",
       "      <td>CESSNA</td>\n",
       "      <td>182</td>\n",
       "      <td>...</td>\n",
       "      <td>0</td>\n",
       "      <td>NaN</td>\n",
       "      <td>NaN</td>\n",
       "      <td>NaN</td>\n",
       "      <td>1.0</td>\n",
       "      <td>PRIVATE PILOT</td>\n",
       "      <td>245.0</td>\n",
       "      <td>136.0</td>\n",
       "      <td>0.0</td>\n",
       "      <td>0.0</td>\n",
       "    </tr>\n",
       "    <tr>\n",
       "      <th>1</th>\n",
       "      <td>19780101000029I</td>\n",
       "      <td>01-JAN-78</td>\n",
       "      <td>FAIRBANKS</td>\n",
       "      <td>AK</td>\n",
       "      <td>FAIRBANKS INTL</td>\n",
       "      <td>INCIDENT</td>\n",
       "      <td>MINOR</td>\n",
       "      <td>ROLL-OUT (FIXED WING)</td>\n",
       "      <td>PIPER</td>\n",
       "      <td>PA18</td>\n",
       "      <td>...</td>\n",
       "      <td>0</td>\n",
       "      <td>NaN</td>\n",
       "      <td>NaN</td>\n",
       "      <td>NaN</td>\n",
       "      <td>1.0</td>\n",
       "      <td>STUDENT</td>\n",
       "      <td>200.0</td>\n",
       "      <td>2.0</td>\n",
       "      <td>0.0</td>\n",
       "      <td>0.0</td>\n",
       "    </tr>\n",
       "    <tr>\n",
       "      <th>2</th>\n",
       "      <td>19780101000039I</td>\n",
       "      <td>01-JAN-78</td>\n",
       "      <td>BRUNSWICK</td>\n",
       "      <td>GA</td>\n",
       "      <td>JEKYLL ISLAND</td>\n",
       "      <td>INCIDENT</td>\n",
       "      <td>NaN</td>\n",
       "      <td>NORMAL CRUISE</td>\n",
       "      <td>BEECH</td>\n",
       "      <td>35</td>\n",
       "      <td>...</td>\n",
       "      <td>0</td>\n",
       "      <td>NaN</td>\n",
       "      <td>NaN</td>\n",
       "      <td>NaN</td>\n",
       "      <td>1.0</td>\n",
       "      <td>PRIVATE PILOT</td>\n",
       "      <td>NaN</td>\n",
       "      <td>0.0</td>\n",
       "      <td>0.0</td>\n",
       "      <td>0.0</td>\n",
       "    </tr>\n",
       "    <tr>\n",
       "      <th>3</th>\n",
       "      <td>19780101000049I</td>\n",
       "      <td>01-JAN-78</td>\n",
       "      <td>CARLSBAD</td>\n",
       "      <td>CA</td>\n",
       "      <td>MC CLELLAN-PALOMAR</td>\n",
       "      <td>INCIDENT</td>\n",
       "      <td>MINOR</td>\n",
       "      <td>LEVEL OFF TOUCHDOWN</td>\n",
       "      <td>CESSNA</td>\n",
       "      <td>310</td>\n",
       "      <td>...</td>\n",
       "      <td>0</td>\n",
       "      <td>NaN</td>\n",
       "      <td>NaN</td>\n",
       "      <td>NaN</td>\n",
       "      <td>2.0</td>\n",
       "      <td>COMMERCIAL PILOT FLIGHT INSTRUCTOR</td>\n",
       "      <td>2000.0</td>\n",
       "      <td>400.0</td>\n",
       "      <td>0.0</td>\n",
       "      <td>0.0</td>\n",
       "    </tr>\n",
       "    <tr>\n",
       "      <th>4</th>\n",
       "      <td>19780101000059I</td>\n",
       "      <td>01-JAN-78</td>\n",
       "      <td>TROUTDALE</td>\n",
       "      <td>OR</td>\n",
       "      <td>TROUTDALE MUNI</td>\n",
       "      <td>INCIDENT</td>\n",
       "      <td>MINOR</td>\n",
       "      <td>GROUND TAXI, OTHER AIRPLANE</td>\n",
       "      <td>CESSNA</td>\n",
       "      <td>172</td>\n",
       "      <td>...</td>\n",
       "      <td>0</td>\n",
       "      <td>NaN</td>\n",
       "      <td>NaN</td>\n",
       "      <td>NaN</td>\n",
       "      <td>1.0</td>\n",
       "      <td>COMMERCIAL PILOT</td>\n",
       "      <td>300.0</td>\n",
       "      <td>130.0</td>\n",
       "      <td>0.0</td>\n",
       "      <td>0.0</td>\n",
       "    </tr>\n",
       "  </tbody>\n",
       "</table>\n",
       "<p>5 rows × 27 columns</p>\n",
       "</div>"
      ],
      "text/plain": [
       "  AIDS Report Number Local Event Date Event City Event State  \\\n",
       "0    19780101000019I        01-JAN-78   WAHPETON          ND   \n",
       "1    19780101000029I        01-JAN-78  FAIRBANKS          AK   \n",
       "2    19780101000039I        01-JAN-78  BRUNSWICK          GA   \n",
       "3    19780101000049I        01-JAN-78   CARLSBAD          CA   \n",
       "4    19780101000059I        01-JAN-78  TROUTDALE          OR   \n",
       "\n",
       "        Event Airport Event Type Aircraft Damage                 Flight Phase  \\\n",
       "0        BRECKENRIDGE   INCIDENT           MINOR        ROLL-OUT (FIXED WING)   \n",
       "1      FAIRBANKS INTL   INCIDENT           MINOR        ROLL-OUT (FIXED WING)   \n",
       "2       JEKYLL ISLAND   INCIDENT             NaN                NORMAL CRUISE   \n",
       "3  MC CLELLAN-PALOMAR   INCIDENT           MINOR          LEVEL OFF TOUCHDOWN   \n",
       "4      TROUTDALE MUNI   INCIDENT           MINOR  GROUND TAXI, OTHER AIRPLANE   \n",
       "\n",
       "  Aircraft Make Aircraft Model  ... Total Injuries Aircraft Engine Make  \\\n",
       "0        CESSNA            182  ...              0                  NaN   \n",
       "1         PIPER           PA18  ...              0                  NaN   \n",
       "2         BEECH             35  ...              0                  NaN   \n",
       "3        CESSNA            310  ...              0                  NaN   \n",
       "4        CESSNA            172  ...              0                  NaN   \n",
       "\n",
       "  Aircraft Engine Model Engine Group Code Nbr of Engines  \\\n",
       "0                   NaN               NaN            1.0   \n",
       "1                   NaN               NaN            1.0   \n",
       "2                   NaN               NaN            1.0   \n",
       "3                   NaN               NaN            2.0   \n",
       "4                   NaN               NaN            1.0   \n",
       "\n",
       "                 PIC Certificate Type  PIC Flight Time Total Hrs  \\\n",
       "0                       PRIVATE PILOT                      245.0   \n",
       "1                             STUDENT                      200.0   \n",
       "2                       PRIVATE PILOT                        NaN   \n",
       "3  COMMERCIAL PILOT FLIGHT INSTRUCTOR                     2000.0   \n",
       "4                    COMMERCIAL PILOT                      300.0   \n",
       "\n",
       "   PIC Flight Time Total Make-Model        .1  \n",
       "0                             136.0  0.0  0.0  \n",
       "1                               2.0  0.0  0.0  \n",
       "2                               0.0  0.0  0.0  \n",
       "3                             400.0  0.0  0.0  \n",
       "4                             130.0  0.0  0.0  \n",
       "\n",
       "[5 rows x 27 columns]"
      ]
     },
     "execution_count": 4,
     "metadata": {},
     "output_type": "execute_result"
    }
   ],
   "source": [
    "df.head()"
   ]
  },
  {
   "cell_type": "code",
   "execution_count": 5,
   "metadata": {},
   "outputs": [
    {
     "name": "stdout",
     "output_type": "stream",
     "text": [
      "<class 'pandas.core.frame.DataFrame'>\n",
      "RangeIndex: 100000 entries, 0 to 99999\n",
      "Data columns (total 27 columns):\n",
      " #   Column                            Non-Null Count   Dtype  \n",
      "---  ------                            --------------   -----  \n",
      " 0   AIDS Report Number                100000 non-null  object \n",
      " 1   Local Event Date                  100000 non-null  object \n",
      " 2   Event City                        91364 non-null   object \n",
      " 3   Event State                       99234 non-null   object \n",
      " 4   Event Airport                     81398 non-null   object \n",
      " 5   Event Type                        100000 non-null  object \n",
      " 6   Aircraft Damage                   71199 non-null   object \n",
      " 7   Flight Phase                      99758 non-null   object \n",
      " 8   Aircraft Make                     97441 non-null   object \n",
      " 9   Aircraft Model                    96928 non-null   object \n",
      " 10  Aircraft Series                   96927 non-null   object \n",
      " 11  Operator                          29974 non-null   object \n",
      " 12  Primary Flight Type               89906 non-null   object \n",
      " 13  Flight Conduct Code               99858 non-null   object \n",
      " 14  Flight Plan Filed Code            87088 non-null   object \n",
      " 15  Aircraft Registration Nbr         100000 non-null  object \n",
      " 16  Total Fatalities                  100000 non-null  int64  \n",
      " 17  Total Injuries                    100000 non-null  int64  \n",
      " 18  Aircraft Engine Make              36395 non-null   object \n",
      " 19  Aircraft Engine Model             36399 non-null   object \n",
      " 20  Engine Group Code                 30102 non-null   object \n",
      " 21  Nbr of Engines                    93004 non-null   float64\n",
      " 22  PIC Certificate Type              91474 non-null   object \n",
      " 23  PIC Flight Time Total Hrs         79807 non-null   float64\n",
      " 24  PIC Flight Time Total Make-Model  85053 non-null   float64\n",
      " 25                                    83803 non-null   float64\n",
      " 26   .1                               60737 non-null   float64\n",
      "dtypes: float64(5), int64(2), object(20)\n",
      "memory usage: 20.6+ MB\n"
     ]
    }
   ],
   "source": [
    "df.info()"
   ]
  },
  {
   "cell_type": "markdown",
   "metadata": {},
   "source": [
    "### 1.2. Clean the Data"
   ]
  },
  {
   "cell_type": "code",
   "execution_count": 6,
   "metadata": {},
   "outputs": [
    {
     "name": "stdout",
     "output_type": "stream",
     "text": [
      "['AIDS Report Number' 'Local Event Date' 'Event City' 'Event State'\n",
      " 'Event Airport' 'Event Type' 'Aircraft Damage' 'Flight Phase'\n",
      " 'Aircraft Make' 'Aircraft Model' 'Aircraft Series' 'Operator'\n",
      " 'Primary Flight Type' 'Flight Conduct Code' 'Flight Plan Filed Code'\n",
      " 'Aircraft Registration Nbr' 'Total Fatalities' 'Total Injuries'\n",
      " 'Aircraft Engine Make' 'Aircraft Engine Model' 'Engine Group Code'\n",
      " 'Nbr of Engines' 'PIC Certificate Type' 'PIC Flight Time Total Hrs'\n",
      " 'PIC Flight Time Total Make-Model' ' ' ' .1']\n"
     ]
    }
   ],
   "source": [
    "# List columns\n",
    "print(df.columns.values)"
   ]
  },
  {
   "cell_type": "code",
   "execution_count": 7,
   "metadata": {},
   "outputs": [
    {
     "name": "stdout",
     "output_type": "stream",
     "text": [
      "<class 'pandas.core.frame.DataFrame'>\n",
      "RangeIndex: 100000 entries, 0 to 99999\n",
      "Data columns (total 15 columns):\n",
      " #   Column                            Non-Null Count   Dtype  \n",
      "---  ------                            --------------   -----  \n",
      " 0   Local Event Date                  100000 non-null  object \n",
      " 1   Event City                        91364 non-null   object \n",
      " 2   Event State                       99234 non-null   object \n",
      " 3   Event Airport                     81398 non-null   object \n",
      " 4   Aircraft Damage                   71199 non-null   object \n",
      " 5   Flight Phase                      99758 non-null   object \n",
      " 6   Aircraft Make                     97441 non-null   object \n",
      " 7   Aircraft Model                    96928 non-null   object \n",
      " 8   Aircraft Registration Nbr         100000 non-null  object \n",
      " 9   Total Fatalities                  100000 non-null  int64  \n",
      " 10  Total Injuries                    100000 non-null  int64  \n",
      " 11  Nbr of Engines                    93004 non-null   float64\n",
      " 12  PIC Certificate Type              91474 non-null   object \n",
      " 13  PIC Flight Time Total Hrs         79807 non-null   float64\n",
      " 14  PIC Flight Time Total Make-Model  85053 non-null   float64\n",
      "dtypes: float64(3), int64(2), object(10)\n",
      "memory usage: 11.4+ MB\n"
     ]
    }
   ],
   "source": [
    "# Drop columns\n",
    "df=df.drop(columns=['AIDS Report Number', 'Event Type', 'Aircraft Series', 'Operator', 'Primary Flight Type', 'Flight Conduct Code', \n",
    "        'Flight Plan Filed Code', 'Aircraft Engine Make', 'Aircraft Engine Model', 'Engine Group Code', ' ', ' .1'])\n",
    "\n",
    "df.info()"
   ]
  },
  {
   "cell_type": "code",
   "execution_count": 8,
   "metadata": {},
   "outputs": [
    {
     "data": {
      "text/plain": [
       "Local Event Date                        0\n",
       "Event City                           8636\n",
       "Event State                           766\n",
       "Event Airport                       18602\n",
       "Aircraft Damage                     28801\n",
       "Flight Phase                          242\n",
       "Aircraft Make                        2559\n",
       "Aircraft Model                       3072\n",
       "Aircraft Registration Nbr               0\n",
       "Total Fatalities                        0\n",
       "Total Injuries                          0\n",
       "Nbr of Engines                       6996\n",
       "PIC Certificate Type                 8526\n",
       "PIC Flight Time Total Hrs           20193\n",
       "PIC Flight Time Total Make-Model    14947\n",
       "dtype: int64"
      ]
     },
     "execution_count": 8,
     "metadata": {},
     "output_type": "execute_result"
    }
   ],
   "source": [
    "# Count NaN values\n",
    "df.isnull().sum(axis=0)"
   ]
  },
  {
   "cell_type": "code",
   "execution_count": 9,
   "metadata": {},
   "outputs": [
    {
     "name": "stdout",
     "output_type": "stream",
     "text": [
      "<class 'pandas.core.frame.DataFrame'>\n",
      "Index: 42124 entries, 0 to 99997\n",
      "Data columns (total 15 columns):\n",
      " #   Column                            Non-Null Count  Dtype  \n",
      "---  ------                            --------------  -----  \n",
      " 0   Local Event Date                  42124 non-null  object \n",
      " 1   Event City                        42124 non-null  object \n",
      " 2   Event State                       42124 non-null  object \n",
      " 3   Event Airport                     42124 non-null  object \n",
      " 4   Aircraft Damage                   42124 non-null  object \n",
      " 5   Flight Phase                      42124 non-null  object \n",
      " 6   Aircraft Make                     42124 non-null  object \n",
      " 7   Aircraft Model                    42124 non-null  object \n",
      " 8   Aircraft Registration Nbr         42124 non-null  object \n",
      " 9   Total Fatalities                  42124 non-null  int64  \n",
      " 10  Total Injuries                    42124 non-null  int64  \n",
      " 11  Nbr of Engines                    42124 non-null  float64\n",
      " 12  PIC Certificate Type              42124 non-null  object \n",
      " 13  PIC Flight Time Total Hrs         42124 non-null  float64\n",
      " 14  PIC Flight Time Total Make-Model  42124 non-null  float64\n",
      "dtypes: float64(3), int64(2), object(10)\n",
      "memory usage: 5.1+ MB\n"
     ]
    }
   ],
   "source": [
    "# Drop rows with NaN values\n",
    "df.dropna(how='any', inplace=True)\n",
    "\n",
    "df.info()"
   ]
  },
  {
   "cell_type": "code",
   "execution_count": 10,
   "metadata": {},
   "outputs": [],
   "source": [
    "# Save clean df\n",
    "df.to_parquet('../data/clean_df.parquet')"
   ]
  },
  {
   "cell_type": "markdown",
   "metadata": {},
   "source": [
    "### 1.3. Data Wrangling"
   ]
  },
  {
   "cell_type": "code",
   "execution_count": 11,
   "metadata": {},
   "outputs": [],
   "source": [
    "# Combine aircraft make and model\n",
    "df['Aircraft Make-Model'] = df[['Aircraft Make', 'Aircraft Model']].agg(' '.join, axis=1)\n",
    "\n",
    "# Drop individual make column\n",
    "df=df.drop(columns=['Aircraft Make'])"
   ]
  },
  {
   "cell_type": "code",
   "execution_count": 12,
   "metadata": {},
   "outputs": [],
   "source": [
    "# Convert date obj to dtm\n",
    "df['Local Event Date']=pd.to_datetime(df['Local Event Date'], format= '%d-%b-%y')"
   ]
  },
  {
   "cell_type": "code",
   "execution_count": 13,
   "metadata": {},
   "outputs": [],
   "source": [
    "# Combine flight phases into broader groups: ground, taxiing, take-off, climb, cruise, descent, approach, landing, rotor, unknown\n",
    "\n",
    "# List phases to combine\n",
    "ground=['STARTING ENGINES','OTHER GROUND OPERATIONS','IDLING ENGINES','ENGINE RUN-UP','IDLING ROTORS','GROUND-RAMP','RUN-UP AREA']\n",
    "# Combine specified phases into phase category 'pre-flight'\n",
    "for g in ground:\n",
    "    df.loc[df['Flight Phase'] == g, 'Phase Category'] = 'GROUND'\n",
    "\n",
    "taxiing=['GROUND TAXI, OTHER AIRPLANE','TAXI']\n",
    "for t in taxiing:\n",
    "    df.loc[df['Flight Phase'] == t, 'Phase Category'] = 'TAXIING'\n",
    "\n",
    "takeoff=['TAKEOFF GROUND ROLL','TO ABORTED (FIXED WING)','TO ABORTED (COPIER/RUN TAKE OFF)','TAKEOFF','TAKEOFF: DEPARTURE','TAKEOFF: ROTATION']\n",
    "for t in takeoff:\n",
    "    df.loc[df['Flight Phase'] == t, 'Phase Category'] = 'TAKE-OFF'\n",
    "\n",
    "climb=['CLIMB','TO INITIAL CLIMB (1ST POWER REDUCTION)','TAKEOFF: CLIMB OUT']\n",
    "for c in climb:\n",
    "    df.loc[df['Flight Phase'] == c, 'Phase Category'] = 'CLIMB'\n",
    "\n",
    "cruise=['NORMAL CRUISE','PRACTICE TRAINING MENEUVERS','LOW LEVEL OPERATIONS','UNAUTHORIZED LOW LEVEL OPERATIONS','SIMULATED FORCED LANDING CRUISE',\n",
    "        'PARACHUTE JUMPING','FORMATION FLYING','SCUD RUNNING','CRUISE-LEVEL FLIGHT','MANEUVER']\n",
    "for c in cruise:\n",
    "    df.loc[df['Flight Phase'] == c, 'Phase Category'] = 'CRUISE'\n",
    "\n",
    "descent=['DESCENT']\n",
    "for d in descent:\n",
    "    df.loc[df['Flight Phase'] == d, 'Phase Category'] = 'DESCENT'\n",
    "\n",
    "approach=['IN TRAFFIC PATTERN-CIRCLING','MISSED APPROACH INSTRUMENT FLIGHT RULES','FINAL APPROACH','GO ROUND (ABORTED VISUAL FLIGHT RULES)',\n",
    "        'INITIAL APPROACH-INSTRUMENT FLIGHT RULES','FINAL APPROACH- INSTRUMENT FLIGHT RULES','SIMULATED FORCED LANDING AUTOROTATION',\n",
    "        'SIMULATED FORCED LANDING FINAL APPROACH','SIMULATED FORCED LANDING TRAFFIC PATTERN','HOLDING INSTRUMENT FLIGHT RULES',\n",
    "        'LANDING: APPROACH','APPROACH']\n",
    "for a in approach:\n",
    "    df.loc[df['Flight Phase'] == a, 'Phase Category'] = 'APPROACH'\n",
    "\n",
    "landing=['ROLL-OUT (FIXED WING)','LEVEL OFF TOUCHDOWN','TOUCH AND GO LANDING','FORCED LANDING','FORCED/PRECAUTIONARY LANDING',\n",
    "        'FCD/PREC LDG FROM CRUISE','SIMULATED FORCED LANDING/TAKEOFF','TO RUNNING(HELICOPTER/VERTICAL TAKEOFF AND LANDING AIRCRAFT)',\n",
    "        'POWER OFF RUN LAND (AUTOROTATION)','SIMULATED FORCED LANDING GO AROUND','POWER OFF VERTICAL LANDING/AUTOROTATE',\n",
    "        'SIMULATED FORCED LANDING/TAKEOFF CLIMB','SLOPE LANDING','LANDING','LANDING: TOUCHDOWN','LANDING: ROLLOUT']\n",
    "for l in landing:\n",
    "    df.loc[df['Flight Phase'] == l, 'Phase Category'] = 'LANDING'\n",
    "\n",
    "rotor=['OPERATIONS ON GROUND FROM LANDING/ROTORCRAFT','POWER ON VERTICAL LANDING/ROTORCRAFT','POWER ON RUN LANDING (ROTORCRAFT)','HOVERING',\n",
    "       'AERIAL TAXI, OTHER HELICOPTER','AERIAL TAXI TO TAKEOFF/ROTORCRAFT','POWER ON DESCENT (ROTORCRAFT)','HOVER-HOLDING',\n",
    "       'OPERATIONS ON GROUND TO TAKEOFF/ROTORCRAFT','AUTOROT DESCENT (ROTORCRAFT)','AERIAL TAXI FROM LANDING/ROTORCRAFT',\n",
    "       'TO VERTICAL (HELICOPTER ONLY)','ROLL-OUT (ROTORCRAFT)','TAKEOFF-ABORT-COPTER VERTICAL','SETTLE WITH POWER (ROTORCRAFT)']\n",
    "for r in rotor:\n",
    "    df.loc[df['Flight Phase'] == r, 'Phase Category'] = 'ROTOR'\n",
    "\n",
    "unknown=['UNKNOWN','OTHER-SPECIFY']\n",
    "for u in unknown:\n",
    "    df.loc[df['Flight Phase'] == u, 'Phase Category'] = 'UNKNOWN'"
   ]
  },
  {
   "cell_type": "code",
   "execution_count": 14,
   "metadata": {},
   "outputs": [],
   "source": [
    "# Save wrangled df\n",
    "df.to_parquet('../data/wrangled_df.parquet')"
   ]
  }
 ],
 "metadata": {
  "kernelspec": {
   "display_name": "Python 3",
   "language": "python",
   "name": "python3"
  },
  "language_info": {
   "codemirror_mode": {
    "name": "ipython",
    "version": 3
   },
   "file_extension": ".py",
   "mimetype": "text/x-python",
   "name": "python",
   "nbconvert_exporter": "python",
   "pygments_lexer": "ipython3",
   "version": "3.12.1"
  }
 },
 "nbformat": 4,
 "nbformat_minor": 2
}
